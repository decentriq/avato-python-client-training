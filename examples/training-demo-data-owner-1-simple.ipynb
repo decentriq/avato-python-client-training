{
 "cells": [
  {
   "cell_type": "markdown",
   "metadata": {},
   "source": [
    "# Confidential ML Training Demo - Data Owner 1\n",
    "\n",
    "This notebook is the Data Owners part of the *Confidential ML Training Demo* showing how a simple logistic regression classifier can be trained while keeping the training data provably confidential. The demo requires the [Training Client API](https://github.com/decentriq/avato-python-client-training) and its dependencies to be installed.  "
   ]
  },
  {
   "cell_type": "markdown",
   "metadata": {},
   "source": [
    "## 1 - Import dependencies and submission code"
   ]
  },
  {
   "cell_type": "code",
   "execution_count": 1,
   "metadata": {},
   "outputs": [],
   "source": [
    "import example\n",
    "\n",
    "dataowner1_username, dataowner1_***REMOVED*** = example.dataowner1_credentials\n",
    "dataowner1_file = example.data_filenames[0]"
   ]
  },
  {
   "cell_type": "markdown",
   "metadata": {},
   "source": [
    "## 2 - Set instance id received from Analyst"
   ]
  },
  {
   "cell_type": "code",
   "execution_count": 2,
   "metadata": {},
   "outputs": [],
   "source": [
    "instance_id_from_analyst = \"88880528-dc99-446e-b118-fb2975a6666d\""
   ]
  },
  {
   "cell_type": "markdown",
   "metadata": {},
   "source": [
    "## 3 - Submit Data"
   ]
  },
  {
   "cell_type": "code",
   "execution_count": 3,
   "metadata": {},
   "outputs": [
    {
     "name": "stdout",
     "output_type": "stream",
     "text": [
      "Verifying security...\n",
      "... signature verified.\n",
      "... code hash verified.\n",
      "Security successfully verified.\n",
      "\n",
      "Created random keypair for e2e encryption.\n",
      "\n",
      "Loaded data:\n",
      "   fixed acidity  volatile acidity  citric acid  residual sugar  chlorides  \\\n",
      "0            7.2              0.23         0.32             8.5      0.058   \n",
      "1            6.2              0.32         0.16             7.0      0.045   \n",
      "\n",
      "   free sulfur dioxide  total sulfur dioxide  density    pH  sulphates  \\\n",
      "0                 47.0                 186.0   0.9956  3.19       0.40   \n",
      "1                 30.0                 136.0   0.9949  3.18       0.47   \n",
      "\n",
      "   alcohol  quality  \n",
      "0      9.9        6  \n",
      "1      9.6        6  \n",
      "\n",
      "Encrypting data...\n",
      "Submitting encrypted data...\n",
      "\n",
      "Number of successfully ingested rows: 2483, number of failed rows: 0\n"
     ]
    }
   ],
   "source": [
    "example.data_owner_submit_data(\n",
    "    dataowner1_username, \n",
    "    dataowner1_***REMOVED***, \n",
    "    instance_id_from_analyst, \n",
    "    dataowner1_file\n",
    ")"
   ]
  },
  {
   "cell_type": "code",
   "execution_count": null,
   "metadata": {},
   "outputs": [],
   "source": []
  }
 ],
 "metadata": {
  "colab": {
   "collapsed_sections": [],
   "name": "Benchmarking_Demo_new.ipynb",
   "provenance": []
  },
  "kernelspec": {
   "display_name": "Python 3",
   "language": "python",
   "name": "python3"
  },
  "language_info": {
   "codemirror_mode": {
    "name": "ipython",
    "version": 3
   },
   "file_extension": ".py",
   "mimetype": "text/x-python",
   "name": "python",
   "nbconvert_exporter": "python",
   "pygments_lexer": "ipython3",
   "version": "3.7.5rc1"
  }
 },
 "nbformat": 4,
 "nbformat_minor": 1
}
