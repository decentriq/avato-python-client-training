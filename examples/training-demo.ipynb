{
 "cells": [
  {
   "cell_type": "markdown",
   "metadata": {},
   "source": [
    "# Benchmarking Demo\n",
    "\n",
    "This notebook demonstrates the use of the Confidential Benchmarking tool. It requires the [avato Benchmarking API](https://github.com/decentriq/avato-python-client-benchmarking) and its dependencies to be installed.  \n",
    "\n",
    "Note that in a realistic, non-demo use of the Confidential Benchmarking tool, one admin user and multiple participant users would upload data from different computers. In this workbook, for simplicity, the workflows of the admin user and the two participant users are all shown together.   "
   ]
  },
  {
   "cell_type": "markdown",
   "metadata": {},
   "source": [
    "### Import dependencies"
   ]
  },
  {
   "cell_type": "code",
   "execution_count": null,
   "metadata": {},
   "outputs": [],
   "source": [
    "import os\n",
    "import json\n",
    "from avato import Client\n",
    "from avato import Secret\n",
    "from avato_training import Training_Instance, Configuration\n",
    "\n",
    "admin_username = \"***REMOVED***\"\n",
    "admin_***REMOVED*** = \"***REMOVED***\"\n",
    "\n",
    "participant1_username = \"***REMOVED***\"\n",
    "participant1_***REMOVED*** = \"***REMOVED***\"\n",
    "\n",
    "participant2_username = \"***REMOVED***\"\n",
    "participant2_***REMOVED*** = \"***REMOVED***\"\n",
    "\n",
    "# This is the hash of the code\n",
    "expected_measurement = \"4ff505f350698c78e8b3b49b8e479146ce3896a06cd9e5109dfec8f393f14025\"\n",
    "\n",
    "backend_host = \"localhost\" # \"avato-staging.westeurope.cloudapp.azure.com\"\n",
    "backend_port = 3000 # 15005"
   ]
  },
  {
   "cell_type": "markdown",
   "metadata": {},
   "source": [
    "### ADMIN USER - Set Up Instance\n",
    "#### Create new instance"
   ]
  },
  {
   "cell_type": "code",
   "execution_count": null,
   "metadata": {},
   "outputs": [],
   "source": [
    "# Create client.\n",
    "admin_client = Client(\n",
    "    username=admin_username,\n",
    "    ***REMOVED***=admin_***REMOVED***,\n",
    "    instance_types=[Training_Instance],\n",
    "    backend_host=backend_host,\n",
    "    backend_port=backend_port\n",
    ")\n",
    "\n",
    "# Spin up an instance. Set who can participate in the instance.\n",
    "admin_instance = admin_client.create_instance(\n",
    "    \"Training\", \n",
    "    Training_Instance.type, \n",
    "    [participant1_username, participant2_username]\n",
    ")\n",
    "print(\"Instance ID: {}\".format(admin_instance.id))"
   ]
  },
  {
   "cell_type": "markdown",
   "metadata": {},
   "source": [
    "#### Check security guarantees\n",
    "Validating the so-called fatquote. This step is crucial for all security guarantees.\n",
    "This step gets and validates the cryptographic proof from the enclave:\n",
    "\n",
    "* i)   It proves it is a valid SGX enclave (by checking a certificate).\n",
    "* ii)  It compares the hash of the enclave code provided by the user to\n",
    "     an expected value (to verify what code is running in the enclave).\n",
    "* iii) As part of the proof also a public key is transmitted that allows\n",
    "     establishing a secure connection into the enclave (as the private\n",
    "     key is only known to the enclave).\n",
    "     \n",
    "As we are using a non-production environment, we whitelist the debug and out_of_data flags."
   ]
  },
  {
   "cell_type": "code",
   "execution_count": null,
   "metadata": {},
   "outputs": [],
   "source": [
    "admin_instance.validate_fatquote(\n",
    "    expected_measurement=expected_measurement,\n",
    "    accept_debug=True,\n",
    "    accept_group_out_of_date=True\n",
    ")"
   ]
  },
  {
   "cell_type": "markdown",
   "metadata": {},
   "source": [
    "The quote is part of the fatquote and provides a detailed fingerprint of the program and state of the remote machine. For example:\n",
    "* using `flags` we can detect if the CPU is running in un-trusted debug mode\n",
    "* using `*_snv` we can verify if all security patches have been deployed to the infrastructure\n",
    "* using `mrenclave` we can attest to the exact program being executed on the remote machine"
   ]
  },
  {
   "cell_type": "code",
   "execution_count": null,
   "metadata": {},
   "outputs": [],
   "source": [
    "# Uncomment to inspect \n",
    "# print(admin_instance.quote)"
   ]
  },
  {
   "cell_type": "markdown",
   "metadata": {},
   "source": [
    "#### Configure instance"
   ]
  },
  {
   "cell_type": "code",
   "execution_count": null,
   "metadata": {},
   "outputs": [],
   "source": [
    "# Set the configuration\n",
    "configuration = Configuration(\n",
    "    categories_columns=[\"x_1\", \"x_2\", \"x_3\", \"x_4\"],\n",
    "    value_column=\"y\",\n",
    "    ***REMOVED***=\"***REMOVED***\" # the ***REMOVED*** to execute\n",
    ")\n",
    "\n",
    "# Create and set public-private keypair for secure communication.\n",
    "admin_secret = Secret()\n",
    "admin_instance.set_secret(admin_secret)\n",
    "\n",
    "# Upload\n",
    "admin_instance.upload_configuration(configuration)"
   ]
  },
  {
   "cell_type": "markdown",
   "metadata": {},
   "source": [
    "### PARTICIPANT USERS - Submit Data"
   ]
  },
  {
   "cell_type": "code",
   "execution_count": null,
   "metadata": {},
   "outputs": [],
   "source": [
    "# This function submits for a given participant a data file to the instance.\n",
    "def participant_submit_data(participant_username, participant_***REMOVED***, instance_id, data_file):\n",
    "\n",
    "    # Create client\n",
    "    participant_client = Client(\n",
    "        username=participant_username,\n",
    "        ***REMOVED***=participant_***REMOVED***,\n",
    "        instance_types=[Training_Instance],\n",
    "        backend_host=backend_host,\n",
    "        backend_port=backend_port\n",
    "    )\n",
    "\n",
    "    # Connect to instance (using ID from the admin user)\n",
    "    participant_instance = participant_client.get_instance(instance_id)\n",
    "\n",
    "    # Check security guarantees.\n",
    "    participant_instance.validate_fatquote(\n",
    "        expected_measurement=expected_measurement,\n",
    "        accept_debug=True,\n",
    "        accept_group_out_of_date=True\n",
    "    )\n",
    "\n",
    "    # Create and set public-private keypair for secure communication.\n",
    "    participant_secret = Secret()\n",
    "    participant_instance.set_secret(participant_secret)\n",
    "\n",
    "    # Get data format from the enclave\n",
    "    data_format = participant_instance.get_data_format()\n",
    "    print(\"Data format:\\n{}\".format(data_format))\n",
    "\n",
    "    # Load data\n",
    "    with open(data_file, \"rb\") as f:\n",
    "        data = f.read()\n",
    "        \n",
    "    print(\"Loaded data:\\n{}\".format(data.decode(\"utf-8\")))\n",
    "\n",
    "    # Submit data\n",
    "    (ingested_rows, failed_rows) = participant_instance.submit_data(data)\n",
    "    print(\"Number of successfully ingested rows: {}, number of failed rows: {}\".format(ingested_rows, failed_rows))\n",
    "    \n",
    "    return participant_instance"
   ]
  },
  {
   "cell_type": "markdown",
   "metadata": {},
   "source": [
    "#### PARTICIPANT 1 - Submit data"
   ]
  },
  {
   "cell_type": "code",
   "execution_count": null,
   "metadata": {},
   "outputs": [],
   "source": [
    "participant1_instance = participant_submit_data(\n",
    "    participant1_username, \n",
    "    participant1_***REMOVED***, \n",
    "    admin_instance.id, \n",
    "    \"./test-data/participant1_data.csv\"\n",
    ")"
   ]
  },
  {
   "cell_type": "markdown",
   "metadata": {},
   "source": [
    "#### PARTICIPANT 2 - Submit Data"
   ]
  },
  {
   "cell_type": "code",
   "execution_count": null,
   "metadata": {},
   "outputs": [],
   "source": [
    "participant2_instance = participant_submit_data(\n",
    "    participant2_username, \n",
    "    participant2_***REMOVED***, \n",
    "    admin_instance.id, \n",
    "    \"./test-data/participant2_data.csv\"\n",
    ")"
   ]
  },
  {
   "cell_type": "markdown",
   "metadata": {},
   "source": [
    "### ADMIN USER - Start Execution"
   ]
  },
  {
   "cell_type": "code",
   "execution_count": null,
   "metadata": {
    "colab": {},
    "colab_type": "code",
    "id": "DJPxVc3d4wnr"
   },
   "outputs": [],
   "source": [
    "admin_instance.start_execution(admin_***REMOVED***)"
   ]
  },
  {
   "cell_type": "markdown",
   "metadata": {},
   "source": [
    "### PARTICIPANT USERS - Get Results"
   ]
  },
  {
   "cell_type": "markdown",
   "metadata": {},
   "source": [
    "#### PARTICIPANT 1 - Get results"
   ]
  },
  {
   "cell_type": "code",
   "execution_count": null,
   "metadata": {},
   "outputs": [],
   "source": [
    "results1 = participant1_instance.get_results()\n",
    "print(\"Result participant1:\")\n",
    "print(json.dumps(json.loads(results1.coeffs.replace(\",\\n}\", \"\\n}\")), indent=2))"
   ]
  },
  {
   "cell_type": "markdown",
   "metadata": {},
   "source": [
    "#### PARTICIPANT 2 - Get results"
   ]
  },
  {
   "cell_type": "code",
   "execution_count": null,
   "metadata": {},
   "outputs": [],
   "source": [
    "results2 = participant2_instance.get_results()\n",
    "print(\"Result participant2:\")\n",
    "print(json.dumps(json.loads(results2.coeffs.replace(\",\\n}\", \"\\n}\")), indent=2))"
   ]
  },
  {
   "cell_type": "markdown",
   "metadata": {},
   "source": [
    "### ADMIN USER - Clean Up"
   ]
  },
  {
   "cell_type": "code",
   "execution_count": null,
   "metadata": {
    "colab": {},
    "colab_type": "code",
    "id": "b7S_abhv4wqD"
   },
   "outputs": [],
   "source": [
    "admin_instance.shutdown()\n",
    "admin_instance.delete()\n",
    "assert admin_instance.id not in admin_client.get_instances()"
   ]
  },
  {
   "cell_type": "code",
   "execution_count": null,
   "metadata": {},
   "outputs": [],
   "source": []
  }
 ],
 "metadata": {
  "colab": {
   "collapsed_sections": [],
   "name": "Benchmarking_Demo_new.ipynb",
   "provenance": []
  },
  "kernelspec": {
   "display_name": "Python 3",
   "language": "python",
   "name": "python3"
  },
  "language_info": {
   "codemirror_mode": {
    "name": "ipython",
    "version": 3
   },
   "file_extension": ".py",
   "mimetype": "text/x-python",
   "name": "python",
   "nbconvert_exporter": "python",
   "pygments_lexer": "ipython3",
   "version": "3.7.5rc1"
  }
 },
 "nbformat": 4,
 "nbformat_minor": 1
}
