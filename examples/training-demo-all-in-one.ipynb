{
 "cells": [
  {
   "cell_type": "markdown",
   "metadata": {},
   "source": [
    "# Training Demo\n",
    "\n",
    "This notebook demonstrates the use of the Confidential Training tool. It requires the [avato Training API](https://github.com/decentriq/avato-python-client-training) and its dependencies to be installed.  \n",
    "\n",
    "Note that in a realistic, non-demo use of the Confidential Training tool, one analyst user and multiple dataowner users would upload data from different computers. In this workbook, for simplicity, the workflows of the analyst user and the two dataowner users are all shown together.   "
   ]
  },
  {
   "cell_type": "markdown",
   "metadata": {},
   "source": [
    "### Import dependencies"
   ]
  },
  {
   "cell_type": "code",
   "execution_count": 95,
   "metadata": {},
   "outputs": [],
   "source": [
    "import os\n",
    "import pandas as pd\n",
    "import json\n",
    "from avato import Client\n",
    "from avato import Secret\n",
    "from avato_training import Training_Instance, Configuration\n",
    "import numpy as np\n",
    "\n",
    "analyst_username = os.getenv('ANALYST_ID')\n",
    "analyst_***REMOVED*** = os.getenv('ANALYST_PASSWORD')\n",
    "\n",
    "dataowner1_username = os.getenv('DATAOWNER1_ID')\n",
    "dataowner1_***REMOVED*** = os.getenv('DATAOWNER1_PASSWORD')\n",
    "\n",
    "dataowner2_username = os.getenv('DATAOWNER2_ID')\n",
    "dataowner2_***REMOVED*** = os.getenv('DATAOWNER2_PASSWORD')\n",
    "\n",
    "# This is the hash of the code\n",
    "expected_measurement = \"4ff505f350698c78e8b3b49b8e479146ce3896a06cd9e5109dfec8f393f14025\"\n",
    "\n",
    "# How the analyst expects the data to be formatted\n",
    "feature_columns = ['fixed acidity', 'volatile acidity', 'citric acid', 'residual sugar', 'chlorides', 'free sulfur dioxide', 'total sulfur dioxide', 'density', 'pH', 'sulphates', 'alcohol']\n",
    "label_column = \"quality\"\n",
    "\n",
    "# The datafiles uploaded by the \n",
    "dataowner1_file = \"test-data/wine-dataowner1.csv\"\n",
    "dataowner2_file = \"test-data/wine-dataowner2.csv\"\n",
    "\n",
    "backend_host = \"localhost\" \n",
    "backend_port = 3000 "
   ]
  },
  {
   "cell_type": "markdown",
   "metadata": {},
   "source": [
    "### ANALYST USER\n",
    "#### Create new instance"
   ]
  },
  {
   "cell_type": "code",
   "execution_count": 96,
   "metadata": {
    "scrolled": true
   },
   "outputs": [
    {
     "name": "stdout",
     "output_type": "stream",
     "text": [
      "Instance ID: 6cc8d512-0288-4fb8-a1d0-34e506f99ed6\n"
     ]
    }
   ],
   "source": [
    "# Create client.\n",
    "analyst_client = Client(\n",
    "    username=analyst_username,\n",
    "    ***REMOVED***=analyst_***REMOVED***,\n",
    "    instance_types=[Training_Instance],\n",
    "    backend_host=backend_host,\n",
    "    backend_port=backend_port\n",
    ")\n",
    "\n",
    "# Spin up an instance. Set who can participate in the instance.\n",
    "analyst_instance = analyst_client.create_instance(\n",
    "    \"Training\", \n",
    "    Training_Instance.type, \n",
    "    [dataowner1_username, dataowner2_username]\n",
    ")\n",
    "print(\"Instance ID: {}\".format(analyst_instance.id))"
   ]
  },
  {
   "cell_type": "markdown",
   "metadata": {},
   "source": [
    "#### Check security guarantees\n",
    "Validating the so-called fatquote. This step is crucial for all security guarantees.\n",
    "This step gets and validates the cryptographic proof from the enclave:\n",
    "\n",
    "* i)   It proves it is a valid SGX enclave (by checking a certificate).\n",
    "* ii)  It compares the hash of the enclave code provided by the user to\n",
    "     an expected value (to verify what code is running in the enclave).\n",
    "* iii) As part of the proof also a public key is transmitted that allows\n",
    "     establishing a secure connection into the enclave (as the private\n",
    "     key is only known to the enclave).\n",
    "     \n",
    "As we are using a non-production environment, we whitelist the debug and out_of_data flags."
   ]
  },
  {
   "cell_type": "code",
   "execution_count": 97,
   "metadata": {
    "scrolled": true
   },
   "outputs": [],
   "source": [
    "analyst_instance.validate_fatquote(\n",
    "    expected_measurement=expected_measurement,\n",
    "    accept_debug=True,\n",
    "    accept_group_out_of_date=True\n",
    ")"
   ]
  },
  {
   "cell_type": "markdown",
   "metadata": {},
   "source": [
    "The quote is part of the fatquote and provides a detailed fingerprint of the program and state of the remote machine. For example:\n",
    "* using `flags` we can detect if the CPU is running in un-trusted debug mode\n",
    "* using `*_snv` we can verify if all security patches have been deployed to the infrastructure\n",
    "* using `mrenclave` we can attest to the exact program being executed on the remote machine"
   ]
  },
  {
   "cell_type": "code",
   "execution_count": 98,
   "metadata": {},
   "outputs": [],
   "source": [
    "# Uncomment to inspect \n",
    "# print(analyst_instance.quote)"
   ]
  },
  {
   "cell_type": "markdown",
   "metadata": {},
   "source": [
    "#### Configure instance"
   ]
  },
  {
   "cell_type": "code",
   "execution_count": 99,
   "metadata": {},
   "outputs": [],
   "source": [
    "# Set the configuration\n",
    "configuration = Configuration(\n",
    "    feature_columns=feature_columns,\n",
    "    label_column=label_column,\n",
    "    ***REMOVED***=analyst_***REMOVED*** # the ***REMOVED*** to execute\n",
    ")\n",
    "\n",
    "# Create and set public-private keypair for secure communication.\n",
    "analyst_secret = Secret()\n",
    "analyst_instance.set_secret(analyst_secret)\n",
    "\n",
    "# Upload\n",
    "analyst_instance.upload_configuration(configuration)"
   ]
  },
  {
   "cell_type": "markdown",
   "metadata": {},
   "source": [
    "### DATAOWNERS"
   ]
  },
  {
   "cell_type": "code",
   "execution_count": 100,
   "metadata": {},
   "outputs": [],
   "source": [
    "# This function submits for a given dataowner a data file to the instance.\n",
    "def dataowner_submit_data(dataowner_username, dataowner_***REMOVED***, instance_id, data_file):\n",
    "\n",
    "    # Create client\n",
    "    dataowner_client = Client(\n",
    "        username=dataowner_username,\n",
    "        ***REMOVED***=dataowner_***REMOVED***,\n",
    "        instance_types=[Training_Instance],\n",
    "        backend_host=backend_host,\n",
    "        backend_port=backend_port\n",
    "    )\n",
    "\n",
    "    # Connect to instance (using ID from the analyst user)\n",
    "    dataowner_instance = dataowner_client.get_instance(instance_id)\n",
    "\n",
    "    # Check security guarantees.\n",
    "    dataowner_instance.validate_fatquote(\n",
    "        expected_measurement=expected_measurement,\n",
    "        accept_debug=True,\n",
    "        accept_group_out_of_date=True\n",
    "    )\n",
    "\n",
    "    # Create and set public-private keypair for secure communication.\n",
    "    dataowner_secret = Secret()\n",
    "    dataowner_instance.set_secret(dataowner_secret)\n",
    "\n",
    "    # Get data format from the enclave\n",
    "    data_format = dataowner_instance.get_data_format()\n",
    "    print(\"Data format:\\n{}\".format(data_format))\n",
    "\n",
    "    # Load data\n",
    "    df = pd.read_csv(data_file)\n",
    "    \n",
    "    print(\"Loaded data:\\n\")\n",
    "    print(df)\n",
    "\n",
    "    # Submit data\n",
    "    (ingested_rows, failed_rows) = dataowner_instance.submit_data(df)\n",
    "    print(\"Number of successfully ingested rows: {}, number of failed rows: {}\".format(ingested_rows, failed_rows))\n",
    "    \n",
    "    return dataowner_instance"
   ]
  },
  {
   "cell_type": "markdown",
   "metadata": {},
   "source": [
    "#### dataowner 1 - Submit data"
   ]
  },
  {
   "cell_type": "code",
   "execution_count": 101,
   "metadata": {},
   "outputs": [
    {
     "name": "stdout",
     "output_type": "stream",
     "text": [
      "Data format:\n",
      "categoriesColumns: \"fixed acidity\"\n",
      "categoriesColumns: \"volatile acidity\"\n",
      "categoriesColumns: \"citric acid\"\n",
      "categoriesColumns: \"residual sugar\"\n",
      "categoriesColumns: \"chlorides\"\n",
      "categoriesColumns: \"free sulfur dioxide\"\n",
      "categoriesColumns: \"total sulfur dioxide\"\n",
      "categoriesColumns: \"density\"\n",
      "categoriesColumns: \"pH\"\n",
      "categoriesColumns: \"sulphates\"\n",
      "categoriesColumns: \"alcohol\"\n",
      "valueColumn: \"quality\"\n",
      "\n",
      "Loaded data:\n",
      "\n",
      "      fixed acidity  volatile acidity  citric acid  residual sugar  chlorides  \\\n",
      "0               7.2              0.23         0.32            8.50      0.058   \n",
      "1               6.2              0.32         0.16            7.00      0.045   \n",
      "2               8.1              0.22         0.43            1.50      0.044   \n",
      "3               8.3              0.42         0.62           19.25      0.040   \n",
      "4               6.6              0.17         0.38            1.50      0.032   \n",
      "...             ...               ...          ...             ...        ...   \n",
      "2478            6.8              0.22         0.36            1.20      0.052   \n",
      "2479            5.7              0.21         0.32            0.90      0.038   \n",
      "2480            6.2              0.21         0.29            1.60      0.039   \n",
      "2481            6.6              0.32         0.36            8.00      0.047   \n",
      "2482            5.5              0.29         0.30            1.10      0.022   \n",
      "\n",
      "      free sulfur dioxide  total sulfur dioxide  density    pH  sulphates  \\\n",
      "0                    47.0                 186.0  0.99560  3.19       0.40   \n",
      "1                    30.0                 136.0  0.99490  3.18       0.47   \n",
      "2                    28.0                 129.0  0.99380  3.22       0.45   \n",
      "3                    41.0                 172.0  1.00020  2.98       0.67   \n",
      "4                    28.0                 112.0  0.99140  3.25       0.55   \n",
      "...                   ...                   ...      ...   ...        ...   \n",
      "2478                 38.0                 127.0  0.99330  3.04       0.54   \n",
      "2479                 38.0                 121.0  0.99074  3.24       0.46   \n",
      "2480                 24.0                  92.0  0.99114  3.27       0.50   \n",
      "2481                 57.0                 168.0  0.99490  3.15       0.46   \n",
      "2482                 20.0                 110.0  0.98869  3.34       0.38   \n",
      "\n",
      "      alcohol  quality  \n",
      "0         9.9        6  \n",
      "1         9.6        6  \n",
      "2        11.0        6  \n",
      "3         9.7        5  \n",
      "4        11.4        7  \n",
      "...       ...      ...  \n",
      "2478      9.2        5  \n",
      "2479     10.6        6  \n",
      "2480     11.2        6  \n",
      "2481      9.6        5  \n",
      "2482     12.8        7  \n",
      "\n",
      "[2483 rows x 12 columns]\n",
      "Number of successfully ingested rows: 2483, number of failed rows: []\n"
     ]
    }
   ],
   "source": [
    "dataowner1_instance = dataowner_submit_data(\n",
    "    dataowner1_username, \n",
    "    dataowner1_***REMOVED***, \n",
    "    analyst_instance.id, \n",
    "    data_file=dataowner1_file\n",
    ")"
   ]
  },
  {
   "cell_type": "markdown",
   "metadata": {},
   "source": [
    "#### dataowner 2 - Submit Data"
   ]
  },
  {
   "cell_type": "code",
   "execution_count": 102,
   "metadata": {},
   "outputs": [
    {
     "name": "stdout",
     "output_type": "stream",
     "text": [
      "Data format:\n",
      "categoriesColumns: \"fixed acidity\"\n",
      "categoriesColumns: \"volatile acidity\"\n",
      "categoriesColumns: \"citric acid\"\n",
      "categoriesColumns: \"residual sugar\"\n",
      "categoriesColumns: \"chlorides\"\n",
      "categoriesColumns: \"free sulfur dioxide\"\n",
      "categoriesColumns: \"total sulfur dioxide\"\n",
      "categoriesColumns: \"density\"\n",
      "categoriesColumns: \"pH\"\n",
      "categoriesColumns: \"sulphates\"\n",
      "categoriesColumns: \"alcohol\"\n",
      "valueColumn: \"quality\"\n",
      "\n",
      "Loaded data:\n",
      "\n",
      "      fixed acidity  volatile acidity  citric acid  residual sugar  chlorides  \\\n",
      "0               7.0             0.270         0.36           20.70      0.045   \n",
      "1               6.3             0.300         0.34            1.60      0.049   \n",
      "2               8.1             0.280         0.40            6.90      0.050   \n",
      "3               7.2             0.230         0.32            8.50      0.058   \n",
      "4               8.1             0.280         0.40            6.90      0.050   \n",
      "...             ...               ...          ...             ...        ...   \n",
      "2410            4.9             0.235         0.27           11.75      0.030   \n",
      "2411            6.1             0.340         0.29            2.20      0.036   \n",
      "2412            6.5             0.230         0.38            1.30      0.032   \n",
      "2413            6.5             0.240         0.19            1.20      0.041   \n",
      "2414            6.0             0.210         0.38            0.80      0.020   \n",
      "\n",
      "      free sulfur dioxide  total sulfur dioxide  density    pH  sulphates  \\\n",
      "0                    45.0                 170.0  1.00100  3.00       0.45   \n",
      "1                    14.0                 132.0  0.99400  3.30       0.49   \n",
      "2                    30.0                  97.0  0.99510  3.26       0.44   \n",
      "3                    47.0                 186.0  0.99560  3.19       0.40   \n",
      "4                    30.0                  97.0  0.99510  3.26       0.44   \n",
      "...                   ...                   ...      ...   ...        ...   \n",
      "2410                 34.0                 118.0  0.99540  3.07       0.50   \n",
      "2411                 25.0                 100.0  0.98938  3.06       0.44   \n",
      "2412                 29.0                 112.0  0.99298  3.29       0.54   \n",
      "2413                 30.0                 111.0  0.99254  2.99       0.46   \n",
      "2414                 22.0                  98.0  0.98941  3.26       0.32   \n",
      "\n",
      "      alcohol  quality  \n",
      "0         8.8        6  \n",
      "1         9.5        6  \n",
      "2        10.1        6  \n",
      "3         9.9        6  \n",
      "4        10.1        6  \n",
      "...       ...      ...  \n",
      "2410      9.4        6  \n",
      "2411     11.8        6  \n",
      "2412      9.7        5  \n",
      "2413      9.4        6  \n",
      "2414     11.8        6  \n",
      "\n",
      "[2415 rows x 12 columns]\n",
      "Number of successfully ingested rows: 2415, number of failed rows: []\n"
     ]
    }
   ],
   "source": [
    "dataowner2_instance = dataowner_submit_data(\n",
    "    dataowner2_username, \n",
    "    dataowner2_***REMOVED***, \n",
    "    analyst_instance.id, \n",
    "    dataowner2_file\n",
    ")"
   ]
  },
  {
   "cell_type": "markdown",
   "metadata": {},
   "source": [
    "### ANALYST\n",
    "#### Train with first set of hyperparameters"
   ]
  },
  {
   "cell_type": "code",
   "execution_count": 103,
   "metadata": {
    "colab": {},
    "colab_type": "code",
    "id": "DJPxVc3d4wnr"
   },
   "outputs": [
    {
     "name": "stdout",
     "output_type": "stream",
     "text": [
      "metadata: {\n",
      "  \"CV Test Accuracy\": \"0.4860941\",\n",
      "  \"CV Train Accuracy\": \"0.48822862\",\n",
      "  \"Fullset Accuracy\": \"0.48591262\"\n",
      "}\n"
     ]
    }
   ],
   "source": [
    "hyperparameters = {\n",
    "    \"learning_rate\": 0.1,\n",
    "    \"num_splits\": 10,\n",
    "    \"num_epochs\": 5,\n",
    "    \"l2_penalty\": 0.0,\n",
    "    \"l1_penalty\": 0.0,\n",
    "}\n",
    "\n",
    "analyst_instance.start_execution(analyst_***REMOVED***, hyperparameters)\n",
    "\n",
    "classifier, metadata = analyst_instance.get_results(analyst_***REMOVED***)\n",
    "print(\"metadata: {}\".format(json.dumps(metadata, indent=2)))"
   ]
  },
  {
   "cell_type": "markdown",
   "metadata": {},
   "source": [
    "#### Train with second set of hyperparameters"
   ]
  },
  {
   "cell_type": "code",
   "execution_count": 104,
   "metadata": {},
   "outputs": [
    {
     "name": "stdout",
     "output_type": "stream",
     "text": [
      "metadata: {\n",
      "  \"CV Test Accuracy\": \"0.47443762\",\n",
      "  \"CV Train Accuracy\": \"0.47695622\",\n",
      "  \"Fullset Accuracy\": \"0.48040017\"\n",
      "}\n"
     ]
    }
   ],
   "source": [
    "hyperparameters = {\n",
    "    \"learning_rate\": 1.0,\n",
    "    \"num_splits\": 10,\n",
    "    \"num_epochs\": 5,\n",
    "    \"l2_penalty\": 0.0,\n",
    "    \"l1_penalty\": 0.0,\n",
    "}\n",
    "\n",
    "analyst_instance.start_execution(analyst_***REMOVED***, hyperparameters)\n",
    "\n",
    "classifier, metadata = analyst_instance.get_results(analyst_***REMOVED***)\n",
    "print(\"metadata: {}\".format(json.dumps(metadata, indent=2)))"
   ]
  },
  {
   "cell_type": "markdown",
   "metadata": {},
   "source": [
    "#### Use classifier, compute accuracy on full dataset, compare with metadata results"
   ]
  },
  {
   "cell_type": "code",
   "execution_count": 48,
   "metadata": {},
   "outputs": [
    {
     "name": "stdout",
     "output_type": "stream",
     "text": [
      "Some predictions of the classifier: ['6' '5']\n",
      "Accuracy of the enclave classifier on the full dataset (as returned through the metadata object): 0.5151082\n",
      "Accuracy of the local classifier on the full dataset: 0.5151082074316048\n"
     ]
    }
   ],
   "source": [
    "def load_data():\n",
    "    Xy = np.array(\n",
    "        pd.concat([\n",
    "            pd.read_csv(dataowner1_file),\n",
    "            pd.read_csv(dataowner2_file)\n",
    "        ])\n",
    "    );\n",
    "    X = Xy[:,0:-1]\n",
    "    y = Xy[:,-1]\n",
    "    return X, y\n",
    "\n",
    "def compute_accuracy(classifier, X, y):\n",
    "\n",
    "    y_hat = classifier.predict(X)\n",
    "    assert len(y) == len(y_hat)\n",
    "    n = len(y)\n",
    "    n_eq = 0\n",
    "    for yi, yi_hat in zip(y, y_hat):\n",
    "        if float(yi) == float(yi_hat):\n",
    "            n_eq = n_eq + 1\n",
    "    accuracy = float(n_eq)/n\n",
    "    return accuracy\n",
    "\n",
    "\n",
    "X, y = load_data()\n",
    "accuracy = compute_accuracy(classifier, X, y)\n",
    "\n",
    "print(\"Some predictions of the classifier: {}\".format(classifier.predict(X[0:2, :])))\n",
    "print(\"Accuracy of the enclave classifier on the full dataset (as returned through the metadata object): {}\".format(metadata[\"Fullset Accuracy\"]))\n",
    "print(\"Accuracy of the local classifier on the full dataset: {}\".format(accuracy))\n",
    "\n",
    "\n"
   ]
  },
  {
   "cell_type": "markdown",
   "metadata": {},
   "source": [
    "### ANALYST USER - Clean Up"
   ]
  },
  {
   "cell_type": "code",
   "execution_count": 49,
   "metadata": {
    "colab": {},
    "colab_type": "code",
    "id": "b7S_abhv4wqD"
   },
   "outputs": [],
   "source": [
    "analyst_instance.shutdown()\n",
    "analyst_instance.delete()\n",
    "assert analyst_instance.id not in analyst_client.get_instances()"
   ]
  },
  {
   "cell_type": "code",
   "execution_count": null,
   "metadata": {},
   "outputs": [],
   "source": []
  },
  {
   "cell_type": "code",
   "execution_count": null,
   "metadata": {},
   "outputs": [],
   "source": []
  },
  {
   "cell_type": "code",
   "execution_count": null,
   "metadata": {},
   "outputs": [],
   "source": []
  },
  {
   "cell_type": "code",
   "execution_count": null,
   "metadata": {},
   "outputs": [],
   "source": []
  },
  {
   "cell_type": "code",
   "execution_count": null,
   "metadata": {},
   "outputs": [],
   "source": []
  }
 ],
 "metadata": {
  "colab": {
   "collapsed_sections": [],
   "name": "Benchmarking_Demo_new.ipynb",
   "provenance": []
  },
  "kernelspec": {
   "display_name": "Python 3",
   "language": "python",
   "name": "python3"
  },
  "language_info": {
   "codemirror_mode": {
    "name": "ipython",
    "version": 3
   },
   "file_extension": ".py",
   "mimetype": "text/x-python",
   "name": "python",
   "nbconvert_exporter": "python",
   "pygments_lexer": "ipython3",
   "version": "3.8.3"
  }
 },
 "nbformat": 4,
 "nbformat_minor": 1
}
