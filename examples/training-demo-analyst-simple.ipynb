{
 "cells": [
  {
   "cell_type": "markdown",
   "metadata": {},
   "source": [
    "# Confidential ML Training Demo - Analyst\n",
    "\n",
    "This notebook is the Analyst part of the *Confidential ML Training Demo* showing how a simple logistic regression classifier can be trained while keeping the training data provably confidential. The demo requires the [Training Client API](https://github.com/decentriq/avato-python-client-training) and its dependencies to be installed.  \n",
    "\n",
    "Note that while we demo the training of a logistic regression enclave, it can be used to train a variety of other classifiers. "
   ]
  },
  {
   "cell_type": "markdown",
   "metadata": {},
   "source": [
    "## 1 - Import dependencies and set parameters"
   ]
  },
  {
   "cell_type": "code",
   "execution_count": null,
   "metadata": {},
   "outputs": [],
   "source": [
    "import os\n",
    "import json\n",
    "import example\n",
    "\n",
    "analyst_username = os.getenv('ANALYST_ID')\n",
    "analyst_***REMOVED*** = os.getenv('ANALYST_PASSWORD')\n",
    "\n",
    "# The analyst needs these to control who can upload data\n",
    "data_owner_usernames = (os.getenv('DATAOWNER1_ID'), os.getenv('DATAOWNER2_ID'))\n",
    "\n",
    "# How the analyst expects the data to be formatted\n",
    "feature_columns = [\n",
    "    'fixed acidity', \n",
    "    'volatile acidity', \n",
    "    'citric acid', \n",
    "    'residual sugar', \n",
    "    'chlorides', \n",
    "    'free sulfur dioxide', \n",
    "    'total sulfur dioxide', \n",
    "    'density', \n",
    "    'pH', \n",
    "    'sulphates', \n",
    "    'alcohol'\n",
    "]\n",
    "label_column = \"quality\""
   ]
  },
  {
   "cell_type": "markdown",
   "metadata": {},
   "source": [
    "## 2 - Set up instance"
   ]
  },
  {
   "cell_type": "code",
   "execution_count": null,
   "metadata": {},
   "outputs": [],
   "source": [
    "analyst_instance = example.analyst_set_up_instance(\n",
    "    analyst_username, \n",
    "    analyst_***REMOVED***, \n",
    "    data_owner_usernames, \n",
    "    feature_columns, \n",
    "    label_column\n",
    ")"
   ]
  },
  {
   "cell_type": "markdown",
   "metadata": {},
   "source": [
    "## 3 - Train model (after data has been uploaded by the Data Owners)\n",
    "### Train with first set of hyperparameters\n",
    "This returns the trained classifier and metadata"
   ]
  },
  {
   "cell_type": "code",
   "execution_count": null,
   "metadata": {
    "colab": {},
    "colab_type": "code",
    "id": "DJPxVc3d4wnr"
   },
   "outputs": [],
   "source": [
    "hyperparameters = {\n",
    "    \"learning_rate\": 1.0,\n",
    "    \"num_splits\": 10,\n",
    "    \"num_epochs\": 5,\n",
    "    \"l2_penalty\": 0.0,\n",
    "    \"l1_penalty\": 0.0,\n",
    "}\n",
    "\n",
    "analyst_instance.start_execution(analyst_***REMOVED***, hyperparameters)"
   ]
  },
  {
   "cell_type": "code",
   "execution_count": null,
   "metadata": {},
   "outputs": [],
   "source": [
    "classifier, metadata = analyst_instance.get_results(analyst_***REMOVED***)\n",
    "print(\"metadata: {}\".format(json.dumps(metadata, indent=2)))"
   ]
  },
  {
   "cell_type": "markdown",
   "metadata": {},
   "source": [
    "### Train with second set of hyperparameters"
   ]
  },
  {
   "cell_type": "code",
   "execution_count": null,
   "metadata": {},
   "outputs": [],
   "source": [
    "hyperparameters = {\n",
    "    \"learning_rate\": 0.5,\n",
    "    \"num_splits\": 10,\n",
    "    \"num_epochs\": 5,\n",
    "    \"l2_penalty\": 0.0,\n",
    "    \"l1_penalty\": 0.0,\n",
    "}\n",
    "\n",
    "analyst_instance.start_execution(analyst_***REMOVED***, hyperparameters)"
   ]
  },
  {
   "cell_type": "code",
   "execution_count": null,
   "metadata": {},
   "outputs": [],
   "source": [
    "classifier, metadata = analyst_instance.get_results(analyst_***REMOVED***)\n",
    "print(\"metadata: {}\".format(json.dumps(metadata, indent=2)))"
   ]
  },
  {
   "cell_type": "markdown",
   "metadata": {},
   "source": [
    "## 4 - Use the classifier\n",
    "### Use classifier, compute accuracy on full dataset, compare with metadata results\n",
    "Note that in a realistic situation, the analyst would not have access to the dataset."
   ]
  },
  {
   "cell_type": "code",
   "execution_count": null,
   "metadata": {},
   "outputs": [],
   "source": [
    "X, y = example.load_data()\n",
    "some_predictions = classifier.predict(X[0:2, :])\n",
    "accuracy = example.compute_accuracy(classifier, X, y)\n",
    "\n",
    "print(\"Some predictions of the classifier: \\n{}\\n\".format(some_predictions))\n",
    "print(\"Accuracy of the enclave classifier on the full dataset (from the metadata object): \\n{:.4f}\\n\".format(float(metadata[\"Fullset Accuracy\"])))\n",
    "print(\"Accuracy of the local classifier on the full dataset: \\n{:.4f}\\n\".format(accuracy))"
   ]
  },
  {
   "cell_type": "markdown",
   "metadata": {},
   "source": [
    "## 5 - Clean Up"
   ]
  },
  {
   "cell_type": "code",
   "execution_count": null,
   "metadata": {
    "colab": {},
    "colab_type": "code",
    "id": "b7S_abhv4wqD"
   },
   "outputs": [],
   "source": [
    "analyst_instance.shutdown()\n",
    "analyst_instance.delete()"
   ]
  }
 ],
 "metadata": {
  "colab": {
   "collapsed_sections": [],
   "name": "Benchmarking_Demo_new.ipynb",
   "provenance": []
  },
  "kernelspec": {
   "display_name": "Python 3",
   "language": "python",
   "name": "python3"
  },
  "language_info": {
   "codemirror_mode": {
    "name": "ipython",
    "version": 3
   },
   "file_extension": ".py",
   "mimetype": "text/x-python",
   "name": "python",
   "nbconvert_exporter": "python",
   "pygments_lexer": "ipython3",
   "version": "3.8.3"
  }
 },
 "nbformat": 4,
 "nbformat_minor": 1
}
