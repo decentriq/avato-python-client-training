{
 "cells": [
  {
   "cell_type": "markdown",
   "metadata": {},
   "source": [
    "# Confidential ML Training Demo (Data Owner 2)\n",
    "\n",
    "This notebook is the Data Owners part of the *Confidential ML Training Demo* showing how a simple logistic regression classifier can be trained while keeping the training data provably confidential. The demo requires the [Training Client API](https://github.com/decentriq/avato-python-client-training) and its dependencies to be installed.  "
   ]
  },
  {
   "cell_type": "markdown",
   "metadata": {},
   "source": [
    "## 1 - Import dependencies and submission code"
   ]
  },
  {
   "cell_type": "code",
   "execution_count": null,
   "metadata": {},
   "outputs": [],
   "source": [
    "import os\n",
    "import pandas as pd\n",
    "from avato import Client\n",
    "from avato import Secret\n",
    "from avato_training import Training_Instance\n",
    "import example\n",
    "\n",
    "dataowner2_username = os.getenv('DATAOWNER2_ID')\n",
    "dataowner2_password = os.getenv('DATAOWNER2_PASSWORD')\n",
    "\n",
    "# This is the hash of the code\n",
    "expected_measurement = \"8e6c77bd904826526918a7e8fd4ccdc35cb8f8b5e0241fc78749e80dedf00cdf\"\n",
    "\n",
    "# The datafile\n",
    "dataowner2_file = \"test-data/wine-dataowner2.csv\"\n",
    "\n",
    "backend_host = \"avato.uksouth.cloudapp.azure.com\" \n",
    "backend_port = 15005 "
   ]
  },
  {
   "cell_type": "markdown",
   "metadata": {},
   "source": [
    "## 2 - Set instance id received from Analyst"
   ]
  },
  {
   "cell_type": "code",
   "execution_count": null,
   "metadata": {},
   "outputs": [],
   "source": [
    "# TO MODIFY in accordance to Instance ID created and provided \n",
    "#   by the analyst (Analyst notebook, Section 2, Instance ID: [...])\n",
    "instance_id_from_analyst = \"9a1deb5e51b73ec56977230c19827b960280857caaf794ea1cda03ff91063658\""
   ]
  },
  {
   "cell_type": "markdown",
   "metadata": {},
   "source": [
    "## 3 - Submit Data"
   ]
  },
  {
   "cell_type": "markdown",
   "metadata": {},
   "source": [
    "#### Create client and connect to the instance created by the analyst"
   ]
  },
  {
   "cell_type": "code",
   "execution_count": null,
   "metadata": {},
   "outputs": [],
   "source": [
    "# Create client\n",
    "dataowner2_client = Client(\n",
    "    username=dataowner2_username,\n",
    "    password=dataowner2_password,\n",
    "    instance_types=[Training_Instance],\n",
    "    backend_host=backend_host,\n",
    "    backend_port=backend_port\n",
    ")\n",
    "\n",
    "# Connect to instance (using ID from the analyst user)\n",
    "dataowner2_instance = dataowner2_client.get_instance(instance_id_from_analyst)"
   ]
  },
  {
   "cell_type": "markdown",
   "metadata": {},
   "source": [
    "#### Verify security and create own keypair"
   ]
  },
  {
   "cell_type": "code",
   "execution_count": null,
   "metadata": {},
   "outputs": [],
   "source": [
    "# Verify security.\n",
    "dataowner2_instance.validate_fatquote(\n",
    "    expected_measurement=expected_measurement,\n",
    "    accept_debug=True,\n",
    "    accept_group_out_of_date=True\n",
    ")\n",
    "\n",
    "# Create and set public-private keypair for secure communication.\n",
    "dataowner2_secret = Secret()\n",
    "dataowner2_instance.set_secret(dataowner2_secret)"
   ]
  },
  {
   "cell_type": "markdown",
   "metadata": {},
   "source": [
    "#### Get data format from the enclave"
   ]
  },
  {
   "cell_type": "code",
   "execution_count": null,
   "metadata": {},
   "outputs": [],
   "source": [
    "# Get data format from the enclave\n",
    "data_format = dataowner2_instance.get_data_format()\n",
    "print(\"Data format:\\n{}\".format(data_format))"
   ]
  },
  {
   "cell_type": "markdown",
   "metadata": {},
   "source": [
    "#### Load data"
   ]
  },
  {
   "cell_type": "code",
   "execution_count": null,
   "metadata": {},
   "outputs": [],
   "source": [
    "# Load data\n",
    "df = pd.read_csv(dataowner2_file)\n",
    "df.head(2)"
   ]
  },
  {
   "cell_type": "markdown",
   "metadata": {},
   "source": [
    "#### Submit data"
   ]
  },
  {
   "cell_type": "code",
   "execution_count": null,
   "metadata": {},
   "outputs": [],
   "source": [
    "(ingested_rows, failed_rows) = dataowner2_instance.submit_data(df)\n",
    "print(\"\\nNumber of successfully ingested rows: {}, number of failed rows: {}\".format(ingested_rows, failed_rows))"
   ]
  }
 ],
 "metadata": {
  "colab": {
   "collapsed_sections": [],
   "name": "Benchmarking_Demo_new.ipynb",
   "provenance": []
  },
  "kernelspec": {
   "display_name": "Python 3",
   "language": "python",
   "name": "python3"
  },
  "language_info": {
   "codemirror_mode": {
    "name": "ipython",
    "version": 3
   },
   "file_extension": ".py",
   "mimetype": "text/x-python",
   "name": "python",
   "nbconvert_exporter": "python",
   "pygments_lexer": "ipython3",
   "version": "3.8.3"
  }
 },
 "nbformat": 4,
 "nbformat_minor": 1
}
