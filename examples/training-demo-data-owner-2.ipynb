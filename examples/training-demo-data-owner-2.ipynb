{
 "cells": [
  {
   "cell_type": "markdown",
   "metadata": {},
   "source": [
    "# Confidential ML Training Demo (Data Owner 2)\n",
    "\n",
    "This notebook is the Data Owners part of the *Confidential ML Training Demo* showing how a simple logistic regression classifier can be trained while keeping the training data provably confidential. The demo requires the [Training Client API](https://github.com/decentriq/avato-python-client-training) and its dependencies to be installed.  "
   ]
  },
  {
   "cell_type": "markdown",
   "metadata": {},
   "source": [
    "## 1 - Import dependencies and submission code"
   ]
  },
  {
   "cell_type": "code",
   "execution_count": 1,
   "metadata": {},
   "outputs": [],
   "source": [
    "import os\n",
    "import pandas as pd\n",
    "from avato import Client\n",
    "from avato import Secret\n",
    "from avato_training import Training_Instance\n",
    "import example\n",
    "\n",
    "dataowner2_username = os.getenv('DATAOWNER2_ID')\n",
    "dataowner2_***REMOVED*** = os.getenv('DATAOWNER2_PASSWORD')\n",
    "\n",
    "# This is the hash of the code\n",
    "expected_measurement = \"4ff505f350698c78e8b3b49b8e479146ce3896a06cd9e5109dfec8f393f14025\"\n",
    "\n",
    "# The datafile \n",
    "dataowner2_file = \"test-data/wine-dataowner2.csv\"\n",
    "\n",
    "backend_host = \"localhost\" \n",
    "backend_port = 3000 "
   ]
  },
  {
   "cell_type": "markdown",
   "metadata": {},
   "source": [
    "## 2 - Set instance id received from Analyst"
   ]
  },
  {
   "cell_type": "code",
   "execution_count": 2,
   "metadata": {},
   "outputs": [],
   "source": [
    "instance_id_from_analyst = \"651a23f6-0233-41f3-b13a-fb216b1f11b8\""
   ]
  },
  {
   "cell_type": "markdown",
   "metadata": {},
   "source": [
    "## 3 - Submit Data"
   ]
  },
  {
   "cell_type": "markdown",
   "metadata": {},
   "source": [
    "#### All the steps shown for Data Owner 1 are now hidden behind one function call"
   ]
  },
  {
   "cell_type": "code",
   "execution_count": 4,
   "metadata": {},
   "outputs": [
    {
     "name": "stdout",
     "output_type": "stream",
     "text": [
      "Data format:\n",
      "categoriesColumns: \"fixed acidity\"\n",
      "categoriesColumns: \"volatile acidity\"\n",
      "categoriesColumns: \"citric acid\"\n",
      "categoriesColumns: \"residual sugar\"\n",
      "categoriesColumns: \"chlorides\"\n",
      "categoriesColumns: \"free sulfur dioxide\"\n",
      "categoriesColumns: \"total sulfur dioxide\"\n",
      "categoriesColumns: \"density\"\n",
      "categoriesColumns: \"pH\"\n",
      "categoriesColumns: \"sulphates\"\n",
      "categoriesColumns: \"alcohol\"\n",
      "valueColumn: \"quality\"\n",
      "\n",
      "Loaded data:\n",
      "\n",
      "   fixed acidity  volatile acidity  citric acid  residual sugar  chlorides  \\\n",
      "0            7.0              0.27         0.36            20.7      0.045   \n",
      "1            6.3              0.30         0.34             1.6      0.049   \n",
      "\n",
      "   free sulfur dioxide  total sulfur dioxide  density   pH  sulphates  \\\n",
      "0                 45.0                 170.0    1.001  3.0       0.45   \n",
      "1                 14.0                 132.0    0.994  3.3       0.49   \n",
      "\n",
      "   alcohol  quality  \n",
      "0      8.8        6  \n",
      "1      9.5        6  \n",
      "\n",
      "Number of successfully ingested rows: 2415, number of failed rows: []\n"
     ]
    }
   ],
   "source": [
    "dataowner2_instance = example.dataowner_submit_data(\n",
    "    dataowner2_username, \n",
    "    dataowner2_***REMOVED***, \n",
    "    instance_id_from_analyst, \n",
    "    data_file=dataowner2_file,\n",
    "    backend_host=backend_host, \n",
    "    backend_port=backend_port, \n",
    "    expected_measurement=expected_measurement\n",
    ")"
   ]
  },
  {
   "cell_type": "code",
   "execution_count": null,
   "metadata": {},
   "outputs": [],
   "source": []
  }
 ],
 "metadata": {
  "colab": {
   "collapsed_sections": [],
   "name": "Benchmarking_Demo_new.ipynb",
   "provenance": []
  },
  "kernelspec": {
   "display_name": "Python 3",
   "language": "python",
   "name": "python3"
  },
  "language_info": {
   "codemirror_mode": {
    "name": "ipython",
    "version": 3
   },
   "file_extension": ".py",
   "mimetype": "text/x-python",
   "name": "python",
   "nbconvert_exporter": "python",
   "pygments_lexer": "ipython3",
   "version": "3.8.3"
  }
 },
 "nbformat": 4,
 "nbformat_minor": 1
}
