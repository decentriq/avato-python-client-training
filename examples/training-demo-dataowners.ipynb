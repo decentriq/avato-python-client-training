{
 "cells": [
  {
   "cell_type": "markdown",
   "metadata": {},
   "source": [
    "# Confidential ML Training Demo (Dataowners Part)\n",
    "\n",
    "This notebook is the Dataowners part of the *Confidential ML Training Demo* showing how a simple logistic regression classifier can be trained while keeping the training data provably confidential. The demo requires the [Training Client API](https://github.com/decentriq/avato-python-client-training) and its dependencies to be installed.  \n",
    "\n",
    "Note that in a realistic, non-demo use of the Confidential Training tool, one analyst user and multiple dataowner users would upload data from different computers. In this demo, for simplicity, both dataowners submit data from the same notebook."
   ]
  },
  {
   "cell_type": "markdown",
   "metadata": {},
   "source": [
    "## 1 - Import dependencies"
   ]
  },
  {
   "cell_type": "code",
   "execution_count": 1,
   "metadata": {},
   "outputs": [],
   "source": [
    "import pandas as pd\n",
    "from avato import Client\n",
    "from avato import Secret\n",
    "from avato_training import Training_Instance\n",
    "import example\n",
    "\n",
    "dataowner1_username, dataowner1_***REMOVED*** = example.dataowner1_credentials\n",
    "dataowner2_username, dataowner2_***REMOVED*** = example.dataowner2_credentials\n",
    "\n",
    "# This is the hash of the code\n",
    "expected_measurement = \"4ff505f350698c78e8b3b49b8e479146ce3896a06cd9e5109dfec8f393f14025\"\n",
    "\n",
    "# The datafiles uploaded by the \n",
    "dataowner1_file, dataowner2_file = example.data_filenames\n",
    "\n",
    "backend_host = \"localhost\" \n",
    "backend_port = 3000 "
   ]
  },
  {
   "cell_type": "markdown",
   "metadata": {},
   "source": [
    "## 2 - Set instance id received from Analyst"
   ]
  },
  {
   "cell_type": "code",
   "execution_count": 2,
   "metadata": {},
   "outputs": [],
   "source": [
    "instance_id_from_analyst = \"95921473-6649-4a7d-92df-8e76a96903f5\""
   ]
  },
  {
   "cell_type": "markdown",
   "metadata": {},
   "source": [
    "## 3 - Submit Data"
   ]
  },
  {
   "cell_type": "code",
   "execution_count": 3,
   "metadata": {},
   "outputs": [],
   "source": [
    "# This function submits for a given dataowner a data file to the instance.\n",
    "def dataowner_submit_data(dataowner_username, dataowner_***REMOVED***, instance_id, data_file):\n",
    "\n",
    "    # Create client\n",
    "    dataowner_client = Client(\n",
    "        username=dataowner_username,\n",
    "        ***REMOVED***=dataowner_***REMOVED***,\n",
    "        instance_types=[Training_Instance],\n",
    "        backend_host=backend_host,\n",
    "        backend_port=backend_port\n",
    "    )\n",
    "\n",
    "    # Connect to instance (using ID from the analyst user)\n",
    "    dataowner_instance = dataowner_client.get_instance(instance_id)\n",
    "\n",
    "    # Check security guarantees.\n",
    "    dataowner_instance.validate_fatquote(\n",
    "        expected_measurement=expected_measurement,\n",
    "        accept_debug=True,\n",
    "        accept_group_out_of_date=True\n",
    "    )\n",
    "\n",
    "    # Create and set public-private keypair for secure communication.\n",
    "    dataowner_secret = Secret()\n",
    "    dataowner_instance.set_secret(dataowner_secret)\n",
    "\n",
    "    # Get data format from the enclave\n",
    "    data_format = dataowner_instance.get_data_format()\n",
    "    print(\"Data format:\\n{}\".format(data_format))\n",
    "\n",
    "    # Load data\n",
    "    df = pd.read_csv(data_file)\n",
    "    \n",
    "    print(\"Loaded data:\\n\")\n",
    "    print(df.head(2))\n",
    "\n",
    "    # Submit data\n",
    "    (ingested_rows, failed_rows) = dataowner_instance.submit_data(df)\n",
    "    print(\"\\nNumber of successfully ingested rows: {}, number of failed rows: {}\".format(ingested_rows, failed_rows))\n",
    "    \n",
    "    return dataowner_instance"
   ]
  },
  {
   "cell_type": "markdown",
   "metadata": {},
   "source": [
    "### Dataowner 1 - Submit data"
   ]
  },
  {
   "cell_type": "code",
   "execution_count": 4,
   "metadata": {},
   "outputs": [
    {
     "name": "stdout",
     "output_type": "stream",
     "text": [
      "Data format:\n",
      "categoriesColumns: \"fixed acidity\"\n",
      "categoriesColumns: \"volatile acidity\"\n",
      "categoriesColumns: \"citric acid\"\n",
      "categoriesColumns: \"residual sugar\"\n",
      "categoriesColumns: \"chlorides\"\n",
      "categoriesColumns: \"free sulfur dioxide\"\n",
      "categoriesColumns: \"total sulfur dioxide\"\n",
      "categoriesColumns: \"density\"\n",
      "categoriesColumns: \"pH\"\n",
      "categoriesColumns: \"sulphates\"\n",
      "categoriesColumns: \"alcohol\"\n",
      "valueColumn: \"quality\"\n",
      "\n",
      "Loaded data:\n",
      "\n",
      "   fixed acidity  volatile acidity  citric acid  residual sugar  chlorides  \\\n",
      "0            7.2              0.23         0.32             8.5      0.058   \n",
      "1            6.2              0.32         0.16             7.0      0.045   \n",
      "\n",
      "   free sulfur dioxide  total sulfur dioxide  density    pH  sulphates  \\\n",
      "0                 47.0                 186.0   0.9956  3.19       0.40   \n",
      "1                 30.0                 136.0   0.9949  3.18       0.47   \n",
      "\n",
      "   alcohol  quality  \n",
      "0      9.9        6  \n",
      "1      9.6        6  \n",
      "\n",
      "Number of successfully ingested rows: 2483, number of failed rows: []\n"
     ]
    }
   ],
   "source": [
    "dataowner1_instance = dataowner_submit_data(\n",
    "    dataowner1_username, \n",
    "    dataowner1_***REMOVED***, \n",
    "    instance_id_from_analyst, \n",
    "    data_file=dataowner1_file\n",
    ")"
   ]
  },
  {
   "cell_type": "markdown",
   "metadata": {},
   "source": [
    "### Dataowner 2 - Submit Data"
   ]
  },
  {
   "cell_type": "code",
   "execution_count": 5,
   "metadata": {},
   "outputs": [
    {
     "name": "stdout",
     "output_type": "stream",
     "text": [
      "Data format:\n",
      "categoriesColumns: \"fixed acidity\"\n",
      "categoriesColumns: \"volatile acidity\"\n",
      "categoriesColumns: \"citric acid\"\n",
      "categoriesColumns: \"residual sugar\"\n",
      "categoriesColumns: \"chlorides\"\n",
      "categoriesColumns: \"free sulfur dioxide\"\n",
      "categoriesColumns: \"total sulfur dioxide\"\n",
      "categoriesColumns: \"density\"\n",
      "categoriesColumns: \"pH\"\n",
      "categoriesColumns: \"sulphates\"\n",
      "categoriesColumns: \"alcohol\"\n",
      "valueColumn: \"quality\"\n",
      "\n",
      "Loaded data:\n",
      "\n",
      "   fixed acidity  volatile acidity  citric acid  residual sugar  chlorides  \\\n",
      "0            7.0              0.27         0.36            20.7      0.045   \n",
      "1            6.3              0.30         0.34             1.6      0.049   \n",
      "\n",
      "   free sulfur dioxide  total sulfur dioxide  density   pH  sulphates  \\\n",
      "0                 45.0                 170.0    1.001  3.0       0.45   \n",
      "1                 14.0                 132.0    0.994  3.3       0.49   \n",
      "\n",
      "   alcohol  quality  \n",
      "0      8.8        6  \n",
      "1      9.5        6  \n",
      "\n",
      "Number of successfully ingested rows: 2415, number of failed rows: []\n"
     ]
    }
   ],
   "source": [
    "dataowner2_instance = dataowner_submit_data(\n",
    "    dataowner2_username, \n",
    "    dataowner2_***REMOVED***, \n",
    "    instance_id_from_analyst, \n",
    "    dataowner2_file\n",
    ")"
   ]
  },
  {
   "cell_type": "code",
   "execution_count": null,
   "metadata": {},
   "outputs": [],
   "source": []
  }
 ],
 "metadata": {
  "colab": {
   "collapsed_sections": [],
   "name": "Benchmarking_Demo_new.ipynb",
   "provenance": []
  },
  "kernelspec": {
   "display_name": "Python 3",
   "language": "python",
   "name": "python3"
  },
  "language_info": {
   "codemirror_mode": {
    "name": "ipython",
    "version": 3
   },
   "file_extension": ".py",
   "mimetype": "text/x-python",
   "name": "python",
   "nbconvert_exporter": "python",
   "pygments_lexer": "ipython3",
   "version": "3.7.5rc1"
  }
 },
 "nbformat": 4,
 "nbformat_minor": 1
}
