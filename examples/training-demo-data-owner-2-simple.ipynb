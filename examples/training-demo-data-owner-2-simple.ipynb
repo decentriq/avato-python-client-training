{
 "cells": [
  {
   "cell_type": "markdown",
   "metadata": {},
   "source": [
    "# Confidential ML Training Demo - Data Owner 2\n",
    "\n",
    "This notebook is the Data Owners part of the *Confidential ML Training Demo* showing how a simple logistic regression classifier can be trained while keeping the training data provably confidential. The demo requires the [Training Client API](https://github.com/decentriq/avato-python-client-training) and its dependencies to be installed.  "
   ]
  },
  {
   "cell_type": "markdown",
   "metadata": {},
   "source": [
    "## 1 - Import dependencies and submission code"
   ]
  },
  {
   "cell_type": "code",
   "execution_count": 7,
   "metadata": {},
   "outputs": [],
   "source": [
    "import os\n",
    "import example\n",
    "\n",
    "dataowner2_username = os.getenv('DATAOWNER2_ID')\n",
    "dataowner2_***REMOVED*** = os.getenv('DATAOWNER2_PASSWORD')\n",
    "dataowner2_file = \"test-data/wine-dataowner2.csv\""
   ]
  },
  {
   "cell_type": "markdown",
   "metadata": {},
   "source": [
    "## 2 - Set instance id received from Analyst"
   ]
  },
  {
   "cell_type": "code",
   "execution_count": 8,
   "metadata": {},
   "outputs": [],
   "source": [
    "instance_id_from_analyst = \"e74d2ed9-a719-45f3-a237-20951eb54c85\""
   ]
  },
  {
   "cell_type": "markdown",
   "metadata": {},
   "source": [
    "## 3 - Submit Data"
   ]
  },
  {
   "cell_type": "code",
   "execution_count": 9,
   "metadata": {},
   "outputs": [
    {
     "name": "stdout",
     "output_type": "stream",
     "text": [
      "Verifying security...\n",
      "... signature verified.\n",
      "... code hash verified.\n",
      "Security successfully verified.\n",
      "\n",
      "Created random keypair for e2e encryption.\n",
      "\n",
      "Loaded data:\n",
      "   fixed acidity  volatile acidity  citric acid  residual sugar  chlorides  \\\n",
      "0            7.0              0.27         0.36            20.7      0.045   \n",
      "1            6.3              0.30         0.34             1.6      0.049   \n",
      "\n",
      "   free sulfur dioxide  total sulfur dioxide  density   pH  sulphates  \\\n",
      "0                 45.0                 170.0    1.001  3.0       0.45   \n",
      "1                 14.0                 132.0    0.994  3.3       0.49   \n",
      "\n",
      "   alcohol  quality  \n",
      "0      8.8        6  \n",
      "1      9.5        6  \n",
      "\n",
      "Encrypting data...\n",
      "Submitting encrypted data...\n",
      "\n",
      "Number of successfully ingested rows: 2415, number of failed rows: 0\n"
     ]
    }
   ],
   "source": [
    "example.data_owner_submit_data(\n",
    "    dataowner2_username, \n",
    "    dataowner2_***REMOVED***, \n",
    "    instance_id_from_analyst, \n",
    "    dataowner2_file\n",
    ")"
   ]
  },
  {
   "cell_type": "code",
   "execution_count": null,
   "metadata": {},
   "outputs": [],
   "source": []
  }
 ],
 "metadata": {
  "colab": {
   "collapsed_sections": [],
   "name": "Benchmarking_Demo_new.ipynb",
   "provenance": []
  },
  "kernelspec": {
   "display_name": "Python 3",
   "language": "python",
   "name": "python3"
  },
  "language_info": {
   "codemirror_mode": {
    "name": "ipython",
    "version": 3
   },
   "file_extension": ".py",
   "mimetype": "text/x-python",
   "name": "python",
   "nbconvert_exporter": "python",
   "pygments_lexer": "ipython3",
   "version": "3.8.3"
  }
 },
 "nbformat": 4,
 "nbformat_minor": 1
}
